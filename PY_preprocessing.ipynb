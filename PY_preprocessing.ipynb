{
 "cells": [
  {
   "cell_type": "markdown",
   "metadata": {},
   "source": [
    "### PRE-PROCESSAMENTO\n",
    "---------------------------------------"
   ]
  },
  {
   "cell_type": "code",
   "execution_count": 8,
   "metadata": {},
   "outputs": [],
   "source": [
    "import os"
   ]
  },
  {
   "cell_type": "code",
   "execution_count": 9,
   "metadata": {},
   "outputs": [],
   "source": [
    "## FAZ A LEITURA DOS CÓDIGOS\n",
    "#---------------------------------------\n",
    "def load_file(fname):\n",
    "    try:\n",
    "        with open(fname, 'r', encoding='windows-1252') as f:\n",
    "            text = f.readlines()    \n",
    "        f.close()\n",
    "    except UnicodeDecodeError:\n",
    "        with open(fname, encoding=\"utf8\") as f:\n",
    "            text = f.readlines()    \n",
    "        f.close()\n",
    "    \n",
    "    text = [x.strip() for x in text]\n",
    "    return text\n",
    "    \n",
    "def clear_dir(diretorio):\n",
    "    lixo = \".DS_Store\"\n",
    "    try:\n",
    "        os.remove(os.path.join(diretorio,lixo))\n",
    "        print(\"removed trash: {}\".format(diretorio))\n",
    "    except FileNotFoundError:\n",
    "        pass\n",
    "\n",
    "def write_file(fname, texto, cont):\n",
    "    nome = \"{}/a{:02d}.txt\".format(fname, cont)\n",
    "    arq = open(nome, \"w\")\n",
    "    arq.write(texto)\n",
    "    arq.close()\n",
    "    #print(\"Arquivo salvo em {}\".format(fname))     \n",
    "    \n",
    "def write_csv(texto):\n",
    "    texto_f = \"\"\n",
    "    for t in texto:\n",
    "        texto_f +=\"{}\\n\".format(t)\n",
    "    \n",
    "    arq = open(output_file, \"w\")\n",
    "    arq.write(texto_f.replace(\"[\",\"\").replace(\"]\",\"\").replace(\" \", \"\"))\n",
    "    arq.close()"
   ]
  },
  {
   "cell_type": "code",
   "execution_count": 10,
   "metadata": {},
   "outputs": [],
   "source": [
    "def mapear_dir_raiz(root_input):    \n",
    "    arquivos = [nome for nome in os.listdir(root_input)]\n",
    "    return sorted(arquivos)\n",
    "\n",
    "def read_code(database, output_folder):\n",
    "    lista = []\n",
    "    for count, file in enumerate(database):\n",
    "        lista.append(load_file(os.path.join(output_folder,file)))\n",
    "    return lista\n",
    "\n",
    "def write_join(lista, cont, output_folder):\n",
    "    clear_dir(output_folder)\n",
    "    write_file(output_folder, str(lista), cont)"
   ]
  },
  {
   "cell_type": "code",
   "execution_count": 11,
   "metadata": {},
   "outputs": [],
   "source": [
    "def join_tasks(folder_entrada, output_folder, printador):\n",
    "    #lista: [[1.c][2.c]] [[1.c][2.c][3.c]]...\n",
    "    lista = []\n",
    "    ls_bib = []\n",
    "    contFiles = 0\n",
    "    \n",
    "    clear_dir(folder_entrada)\n",
    "\n",
    "    # diretorio com o nome do aluno: davi, joao, maria, etc\n",
    "    dataset = [nome for nome in os.listdir(folder_entrada)]\n",
    "    dataset = sorted(dataset)\n",
    "\n",
    "    for cont, cam in enumerate(dataset):\n",
    "    \n",
    "        #codes: dataset/nome_do_aluno/\n",
    "        codes = os.path.join(folder_entrada, cam)\n",
    "        \n",
    "        clear_dir(codes)\n",
    "        \n",
    "        #files: 1.c, 2.c, 3.c, etc\n",
    "        files = [nome for nome in os.listdir(codes)]\n",
    "        files = sorted(files)\n",
    "\n",
    "        if printador:\n",
    "            # saida: 0-ericson cesar: ['3.c', '4.C', '1.C', '5.C', '2.C', 'veiculo.c']\n",
    "            print(\"{}-{}: {}\".format(cont, cam.lower(), files))\n",
    "\n",
    "        linha = []\n",
    "        for f in files:\n",
    "            try:\n",
    "                contFiles += 1\n",
    "                linha.append(load_file(os.path.join(codes,f)))\n",
    "            except UnicodeDecodeError:\n",
    "                print(\"\\n>>>> {}\\n\".format(os.path.join(cam,f)))\n",
    "                \n",
    "        ls_bib.append(files)\n",
    "        lista.append(linha)\n",
    "        write_join(linha, cont, output_folder)\n",
    "\n",
    "    print(\">> Total of source codes: {}\".format(contFiles))\n",
    "    print(\"------------------------------------------------------------\")\n",
    "    return(lista, ls_bib)"
   ]
  },
  {
   "cell_type": "code",
   "execution_count": null,
   "metadata": {},
   "outputs": [],
   "source": []
  }
 ],
 "metadata": {
  "kernelspec": {
   "display_name": "Python 3",
   "language": "python",
   "name": "python3"
  },
  "language_info": {
   "codemirror_mode": {
    "name": "ipython",
    "version": 3
   },
   "file_extension": ".py",
   "mimetype": "text/x-python",
   "name": "python",
   "nbconvert_exporter": "python",
   "pygments_lexer": "ipython3",
   "version": "3.6.5"
  }
 },
 "nbformat": 4,
 "nbformat_minor": 2
}
