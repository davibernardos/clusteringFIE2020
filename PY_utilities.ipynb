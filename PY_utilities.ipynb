{
 "cells": [
  {
   "cell_type": "markdown",
   "metadata": {},
   "source": [
    "### UTILITARIOS\n",
    "---"
   ]
  },
  {
   "cell_type": "code",
   "execution_count": 3,
   "metadata": {},
   "outputs": [],
   "source": [
    "def get_printador(features):\n",
    "    print(features)\n",
    "    \n",
    "def get_printador_cab(id_aluno):\n",
    "    print(\"\\nAluno {}\".format(id_aluno))\n",
    "    print(\"-------------------------------\")\n",
    "    \n",
    "##-------------------------------------------------------------------------------    \n",
    "def get_migracao(ls_labels):\n",
    "    print(\"===============================\")\n",
    "    \n",
    "    for i in range(0, len(ls_labels[0])):\n",
    "        print(\"{} {} {} {} {}\".format(i+1, ls_labels[0][i], ls_labels[1][i], ls_labels[2][i], ls_labels[3][i]))"
   ]
  },
  {
   "cell_type": "code",
   "execution_count": null,
   "metadata": {},
   "outputs": [],
   "source": []
  },
  {
   "cell_type": "markdown",
   "metadata": {},
   "source": [
    "### RASCUNHO"
   ]
  },
  {
   "cell_type": "code",
   "execution_count": 5,
   "metadata": {},
   "outputs": [
    {
     "data": {
      "text/plain": [
       "array([0.37498856, 0.38280082, 0.15624523, 0.21874332, 0.4062376 ,\n",
       "       0.49998474, 0.15624523, 0.28124142, 0.15624523, 0.31249046])"
      ]
     },
     "execution_count": 5,
     "metadata": {},
     "output_type": "execute_result"
    }
   ],
   "source": [
    "import numpy as np\n",
    "import math\n",
    "\n",
    "def l2_normalize(v):\n",
    "\tnorm = np.sqrt(np.sum(np.square(v)))\n",
    "\t#print(\"v: {}, norm: {}\".format(v, norm))\n",
    "\t#print(\"v: {}, norm: {}, DIV: {}\".format(v, norm, v/norm))\t\t\n",
    "\tresult = v / norm\n",
    "\t#try:\n",
    "\n",
    "\tfor r in result:\n",
    "\t\tif math.isnan(r):\n",
    "\t\t\treturn v\n",
    "\n",
    "\treturn result\n",
    "\n",
    "#2,6.5,1,3,1,1,1,3,1,1\n",
    "#12,12.25,5,7,13,16,5,9,5,10\n",
    "\n",
    "#data = [12,12.25,5,7,13,16,5,9,5,10]\n",
    "#l2_normalize(data)"
   ]
  },
  {
   "cell_type": "code",
   "execution_count": 4,
   "metadata": {},
   "outputs": [],
   "source": [
    "#criar um dir para todo mundo, copiar um arquivo vazio, quando existir substitui\n",
    "\n",
    "def get_students(turma, ls_listas, root_input, root_output):\n",
    "    lista1 = []\n",
    "\n",
    "    for lista in ls_listas:\n",
    "        folder_entrada = \"{}/{}/{}\".format(root_input, turma, lista)\n",
    "        output_folder = \"{}_{}_{}\".format(root_output, turma, lista)\n",
    "        pp.clear_dir(folder_entrada)            \n",
    "\n",
    "        # diretorio com o nome do aluno: davi, joao, maria, etc\n",
    "        dataset = [nome for nome in os.listdir(folder_entrada)]\n",
    "        dataset = sorted(dataset)\n",
    "            \n",
    "        for student in dataset:\n",
    "            flag = 1\n",
    "            for lee in lista1:\n",
    "                if student in lee:\n",
    "                    flag = 0\n",
    "                    \n",
    "            if flag:\n",
    "                lista1.append(student)\n",
    "    \n",
    "    lista1 = sorted(lista1)                    \n",
    "    \n",
    "    for lista in ls_listas:\n",
    "        folder_entrada = \"{}/{}/{}\".format(root_input, turma, lista)\n",
    "        output_folder = \"{}_{}_{}\".format(root_output, turma, lista)\n",
    "    \n",
    "        for i, lee in enumerate(lista1):\n",
    "            diretorio = \"{}/{}\".format(folder_entrada, lee)\n",
    "            if not os.path.exists(diretorio):\n",
    "                diretorio = \"'{}/{}'\".format(folder_entrada, lee)\n",
    "                os.system('mkdir {}'.format(diretorio))\n",
    "                os.system('cp codigoVazio.c {}'.format(diretorio))\n",
    "                print(\"({}) Não existe: '{}'\".format(lista, diretorio))\n",
    "    \n",
    "    print(\"N. de alunos: {}\".format(len(lista1)))\n",
    "    return (lista1)\n",
    "\n",
    "#a= get_students(\"T2\", ls_listas, root_input, root_output)"
   ]
  },
  {
   "cell_type": "code",
   "execution_count": 4,
   "metadata": {},
   "outputs": [],
   "source": [
    "## Renomear diretórios\n",
    "def test_rename_dir(turma_d, listas_d):\n",
    "    for t in turma_d:\n",
    "        pp.clear_dir('db-input-2/{}'.format(t))\n",
    "        #os.system('mkdir db-input-3/{}'.format(t))\n",
    "        for l in listas_d:\n",
    "            #os.system('mkdir db-input-3/{}/{}'.format(t, l))\n",
    "            caminho_ind = 'db-input-2/{}/{}'.format(t, l)\n",
    "            caminho_oud = 'db-input-3/{}/{}'.format(t, l)\n",
    "\n",
    "            datasetd = [nome for nome in os.listdir(caminho_ind)]\n",
    "            datasetd = sorted(datasetd)\n",
    "\n",
    "            print(\"\\n TURMA: {}\".format(t))\n",
    "            for i, a in enumerate(datasetd):\n",
    "                pp.clear_dir(caminho_ind)\n",
    "\n",
    "                #print(\"{} - {} ({})\".format(i+1, a.lower())\n",
    "                os.system('cp -r {}/\"{}\" {}/\"{}\"'.format(caminho_ind, a, caminho_oud, i))\n",
    "                #os.system('ls {}/\"{}\" >> {}/{}saida.txt'.format(caminho_ind, a, caminho_oud, a.lower()))\n",
    "                \n",
    "                \n",
    "#turmas_d = {'T1', 'T2', 'T3'}\n",
    "#listas_d = {\"Lista01\", \"Lista02\", \"Lista03\", \"Lista04\", \"Lista05\", \"Lista06\"}\n",
    "#test_rename_dir(turma_d, listas_d)"
   ]
  },
  {
   "cell_type": "code",
   "execution_count": null,
   "metadata": {},
   "outputs": [],
   "source": []
  }
 ],
 "metadata": {
  "kernelspec": {
   "display_name": "Python 3",
   "language": "python",
   "name": "python3"
  },
  "language_info": {
   "codemirror_mode": {
    "name": "ipython",
    "version": 3
   },
   "file_extension": ".py",
   "mimetype": "text/x-python",
   "name": "python",
   "nbconvert_exporter": "python",
   "pygments_lexer": "ipython3",
   "version": "3.6.5"
  }
 },
 "nbformat": 4,
 "nbformat_minor": 2
}
