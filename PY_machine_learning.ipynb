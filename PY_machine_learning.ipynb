{
 "cells": [
  {
   "cell_type": "markdown",
   "metadata": {},
   "source": [
    "### MACHINE LEARNING TECHNIQUES\n",
    "------------------------------------------------------------ "
   ]
  },
  {
   "cell_type": "code",
   "execution_count": 11,
   "metadata": {},
   "outputs": [],
   "source": [
    "import numpy as np\n",
    "import math\n",
    "\n",
    "import sklearn\n",
    "from sklearn.cluster import KMeans\n",
    "from sklearn.cluster import AgglomerativeClustering\n",
    "from sklearn import metrics\n",
    "from sklearn.metrics import pairwise_distances\n",
    "#from sklearn.metrics import confusion_matrix\n",
    "\n",
    "from scipy.cluster.hierarchy import dendrogram \n",
    "from scipy.cluster.hierarchy import linkage \n",
    "from scipy.cluster.hierarchy import set_link_color_palette\n",
    "from scipy.cluster.hierarchy import fcluster\n",
    "from scipy.cluster.hierarchy import cophenet\n",
    "from scipy.spatial.distance import pdist\n",
    "import scipy\n",
    "\n",
    "from pylab import rcParams\n",
    "import matplotlib.pyplot as plt\n",
    "np.set_printoptions(precision=4, suppress=True)\n",
    "plt.figure(figsize=(10,3))\n",
    "plt.style.use('seaborn-whitegrid')\n",
    "\n",
    "#%matplotlib inline\n",
    "from sklearn.tree import DecisionTreeClassifier\n",
    "from sklearn.model_selection import train_test_split\n",
    "from sklearn import tree"
   ]
  },
  {
   "cell_type": "markdown",
   "metadata": {},
   "source": [
    "### SELETOR"
   ]
  },
  {
   "cell_type": "code",
   "execution_count": 2,
   "metadata": {},
   "outputs": [],
   "source": [
    " def seletor(df, features_cols):\n",
    "    features_cols_exist = []\n",
    "    for i, cmd in zip(range(len(df[features_cols].keys())), df[features_cols].keys()):    \n",
    "        #len(df.loc[df['typedef'] == 0]) \n",
    "        if not len(df.loc[df[cmd] == 0]) == len(df[features_cols].keys()):\n",
    "            print(\"{}: {} == {}\".format(cmd, len(df.loc[df[cmd] == 0]), len(df[features_cols].keys())))\n",
    "            features_cols_exist.append(cmd)\n",
    "    return features_cols_exist"
   ]
  },
  {
   "cell_type": "markdown",
   "metadata": {},
   "source": [
    "### NORMALIZADOR (L2)"
   ]
  },
  {
   "cell_type": "code",
   "execution_count": 3,
   "metadata": {},
   "outputs": [],
   "source": [
    "def normalizador2(ls_dataset):\n",
    "\tdef l2_normalize(v):\n",
    "\t\tnorm = np.sqrt(np.sum(np.square(v)))\n",
    "\t\t#print(\"v: {}, norm: {}\".format(v, norm))\n",
    "\t\t#print(\"v: {}, norm: {}, DIV: {}\".format(v, norm, v/norm))\t\t\n",
    "\t\tresult = v / norm\n",
    "\t\t#try:\n",
    "\n",
    "\t\tfor r in result:\n",
    "\t\t\tif math.isnan(r):\n",
    "\t\t\t\treturn v\n",
    "\n",
    "\t\treturn result\n",
    "\t\t#except (IndexError, ZeroDivisionError):\n",
    "\n",
    "\tnorm_obj = []\n",
    "\tfor objeto in ls_dataset:\n",
    "\t\tnorm_obj.append(l2_normalize(objeto)) \n",
    "\treturn norm_obj"
   ]
  },
  {
   "cell_type": "code",
   "execution_count": 20,
   "metadata": {},
   "outputs": [],
   "source": [
    "def normalizador(v):\n",
    "    norm = np.sqrt(np.sum(np.square(v)))\n",
    "    result = v / norm\n",
    "    return result"
   ]
  },
  {
   "cell_type": "markdown",
   "metadata": {},
   "source": [
    "### AGRUPADOR (KMEANS)"
   ]
  },
  {
   "cell_type": "code",
   "execution_count": 95,
   "metadata": {},
   "outputs": [],
   "source": []
  },
  {
   "cell_type": "code",
   "execution_count": 1,
   "metadata": {},
   "outputs": [],
   "source": [
    "## OUTPUT: DF acrescenta uma coluna com as labels (GA, GB, GC...)\n",
    "#------------------------------------------------------------\n",
    "def agrupador(df, features_cols, start_stud, output_cluster, num_clusters):\n",
    "    rotulos = []\n",
    "    cutting_height = len(df) - num_clusters\n",
    "    \n",
    "    kmeans = KMeans(n_clusters=num_clusters, random_state=0).fit(df[features_cols].values)\n",
    "    silhouette = metrics.silhouette_score(df, kmeans.labels_, metric='euclidean')\n",
    "    print(\"\\n>>> K-MEANS \\nSilhouette: {} \\n{}\".format(round(silhouette,2), kmeans.labels_))\n",
    "\n",
    "    ## Agglomerative Hierarchical\n",
    "    #------------------------------------------------------------\n",
    "    cluster = AgglomerativeClustering(n_clusters=num_clusters, affinity='euclidean', linkage='complete', compute_distances=True)\n",
    "    cluster.fit_predict(df)\n",
    "    \n",
    "    A = linkage(df, method='centroid', metric='euclidean')\n",
    "    Z = linkage(df, method='complete', metric='euclidean') \n",
    "    labelList = range(start_stud, len(df)+start_stud)\n",
    "    c, coph_dists = cophenet(Z, pdist(df))\n",
    "    cut = Z[cutting_height][2]\n",
    "    \n",
    "    ## Dendrogram\n",
    "    #------------------------------------------------------------ \n",
    "    plt.figure(figsize=(10, 7)) #6.5, 2.5 \n",
    "    plt.grid(False)\n",
    "    plt.ylabel('Euclidean Distance')\n",
    "    plt.xlabel('Student clustering')\n",
    "    \n",
    "    #set_link_color_palette([\"#477f30\", \"#0000FF\", \"#993a8b\"])\n",
    "    set_link_color_palette([\"blue\", \"green\", \"orange\"])\n",
    "    dendrogram(Z, orientation='top', labels=list(labelList), distance_sort='descending', \n",
    "               show_leaf_counts=True, color_threshold=cut, above_threshold_color='yellow',\n",
    "               leaf_font_size=12, leaf_rotation=90)\n",
    "    plt.axhline(y=cut, linestyle='--', color='r')\n",
    "    plt.savefig(output_cluster, bbox_inches='tight') \n",
    "    \n",
    "    print(\"\\n>>> AGGLOMERATIVE HIERARCHICAL\")\n",
    "    print(\"Cophenetic Correlation Coefficient: {} \\n{}\".format(round(c,2), cluster.labels_))\n",
    "    \n",
    "    #------------------------------------------------------------\n",
    "    if not 'Label' in df:\n",
    "        df.insert(len(features_cols), 'Label', cluster.labels_)\n",
    "        \n",
    "    #------------------------------------------------------------    \n",
    "    # Está sendo utilizada a média do grupo para não prejudicar os grupos menores\n",
    "    dffdp = (df.groupby(['Label']).mean().sum(axis=1)).sort_values(ascending=False) \n",
    "\n",
    "    a,b,c,d = dffdp.index.tolist()\n",
    "    \n",
    "    #------------------------------------------------------------\n",
    "    for i, lab in enumerate(df['Label']):\n",
    "        if lab == a:\n",
    "            df.loc[[i],['Label']] = 'GA'\n",
    "            rotulos.append('GA')\n",
    "        elif lab == b:\n",
    "            df.loc[[i],['Label']] = 'GB'\n",
    "            rotulos.append('GB')\n",
    "        elif lab == c:\n",
    "            df.loc[[i],['Label']] = 'GC'\n",
    "            rotulos.append('GC')\n",
    "        elif lab == d:\n",
    "            df.loc[[i],['Label']] = 'GD'\n",
    "            rotulos.append('GD')\n",
    "\n",
    "    #------------------------------------------------------------\n",
    "    return (df, rotulos)"
   ]
  },
  {
   "cell_type": "markdown",
   "metadata": {},
   "source": [
    "### CLASSIFICADOR (ID3)"
   ]
  },
  {
   "cell_type": "code",
   "execution_count": null,
   "metadata": {},
   "outputs": [],
   "source": [
    "import pydotplus\n",
    "\n",
    "def classificador(df, features_cols, output_tree, printador):\n",
    "    #?X_train, X_test, Y_train, Y_test = train_test_split(df[features_cols], df['Label'], test_size=0.3, random_state=1) # 70% training and 30% test\n",
    "    clf = DecisionTreeClassifier(max_depth=None, random_state=0, criterion='entropy')\n",
    "    clf.fit(df[features_cols], df['Label'])\n",
    "    \n",
    "    #?y_pred = clf.predict(X_test)\n",
    "    #?score = clf.score(X_test, Y_test)\n",
    "\n",
    "    cn = ['GA', 'GB', 'GC', 'GD']\n",
    "    \n",
    "    dot_data = tree.export_graphviz(clf, feature_names = features_cols, class_names = cn, out_file=None,\n",
    "                                    filled = True, rounded = False, special_characters=True)\n",
    "    \n",
    "    graph = pydotplus.graph_from_dot_data(dot_data)\n",
    "    nodes = graph.get_node_list()\n",
    "    colors =  ('yellow', 'orange', 'green', 'lightblue', 'pink')\n",
    "    \n",
    "    for node in nodes:\n",
    "        if node.get_name() not in ('node', 'edge'):\n",
    "            values = clf.tree_.value[int(node.get_name())][0]\n",
    "            #color only nodes where only one class is present\n",
    "            if max(values) == sum(values):    \n",
    "                node.set_fillcolor(colors[np.argmax(values)])\n",
    "            #mixed nodes get the default color\n",
    "            else:\n",
    "                #node.set_fillcolor(colors[np.argmax(values)])\n",
    "                node.set_fillcolor(\"white\")\n",
    "                \n",
    "    graph.write_png(output_tree)\n",
    "    \n",
    "    #?print(\"Accuracy: {}\".format(round(score, 3)))\n",
    "\n",
    "    if printador:\n",
    "        print(\"Número de nós: {}\".format(clf.tree_.node_count))\n",
    "        #print(\"x-train: {} y-test: {}\".format(X_train.shape, Y_test.shape))\n",
    "        #print(\"\\nMatriz de confusão: \\n{}\".format(metrics.confusion_matrix(Y_test, y_pred)))\n",
    "        print(\"\\nImportância das características: \\n{}\".format(clf.feature_importances_))\n",
    "        print(\"\\nOrdem das características: \\n{}\".format(df[features_cols].keys()))\n",
    "        #print(\"\\nRelatório: \\n{}\".format(metrics.classification_report(Y_test, y_pred)))\n",
    "        #print(\"X_train, Y_train, X_test, Y_test \\nfeatures: {}\\n classes: {}\\n dados teste: {}\\n classes teste: {}\".format(X_train, Y_train, X_test, Y_test))\n",
    "        #print(\"classes: \\n{}\\n classes teste: \\n{}\".format(Y_train, Y_test))    "
   ]
  },
  {
   "cell_type": "code",
   "execution_count": null,
   "metadata": {},
   "outputs": [],
   "source": []
  },
  {
   "cell_type": "code",
   "execution_count": null,
   "metadata": {},
   "outputs": [],
   "source": []
  }
 ],
 "metadata": {
  "kernelspec": {
   "display_name": "Python 3",
   "language": "python",
   "name": "python3"
  },
  "language_info": {
   "codemirror_mode": {
    "name": "ipython",
    "version": 3
   },
   "file_extension": ".py",
   "mimetype": "text/x-python",
   "name": "python",
   "nbconvert_exporter": "python",
   "pygments_lexer": "ipython3",
   "version": "3.6.5"
  }
 },
 "nbformat": 4,
 "nbformat_minor": 2
}
